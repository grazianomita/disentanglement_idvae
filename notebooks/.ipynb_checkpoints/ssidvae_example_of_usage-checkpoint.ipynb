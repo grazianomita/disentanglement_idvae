{
 "cells": [
  {
   "cell_type": "markdown",
   "metadata": {
    "collapsed": true
   },
   "source": [
    "# SSIDVAE - Example of usage"
   ]
  },
  {
   "cell_type": "markdown",
   "metadata": {},
   "source": [
    "- In the following lines, SSIDVAE is trained on Cars3D.\n",
    "- The model is trained with the set of parameters specified in the config dictionary.\n",
    "- You might rely on libraries like ray tune to tune the parameters (https://docs.ray.io/en/latest/tune/index.html).\n",
    "- After training, the model is stored in the stored_models directory, logs are eventually stored in the logs directory."
   ]
  },
  {
   "cell_type": "code",
   "execution_count": null,
   "metadata": {
    "collapsed": true
   },
   "outputs": [],
   "source": [
    "import os\n",
    "import torch\n",
    "import random\n",
    "import time\n",
    "import json\n",
    "import numpy as np"
   ]
  },
  {
   "cell_type": "code",
   "execution_count": null,
   "metadata": {
    "collapsed": true
   },
   "outputs": [],
   "source": [
    "from disentanglement.data_models.cars3d import Cars3D\n",
    "from disentanglement.models.ssidvae import SSIDVAE, ConditionalPrior, ssidvae_train\n",
    "from disentanglement.models.utils import weights_init"
   ]
  },
  {
   "cell_type": "code",
   "execution_count": null,
   "metadata": {
    "collapsed": true
   },
   "outputs": [],
   "source": [
    "import warnings\n",
    "warnings.filterwarnings(\"ignore\")"
   ]
  },
  {
   "cell_type": "code",
   "execution_count": null,
   "metadata": {
    "collapsed": true
   },
   "outputs": [],
   "source": [
    "config = {\n",
    "    \"model\": \"ssidvae\", \n",
    "    \"stored_model_path\": \"../stored_models\", # path of the dir where trained models are stored\n",
    "    \"log_path\": \"../logs\", # path of the dir were logs are stored\n",
    "    \"dataset\": \"cars3d\", # or any other dataset\n",
    "    \"data_path\": \"../data/cars3d\", # path taken as input by the dataset class (it can be a dir or a filename)\n",
    "    \"num_channels\": 3, # number of channels of the dataset above\n",
    "    \"batch_size\": 64, \n",
    "    \"labeled_percentage\": .01, # percentage of labeled instances (.01 = 1%)\n",
    "    \"seed\": 17,\n",
    "    \"u_dim\": 3, # to be changed according to the selected dataset \n",
    "    \"u_idx\": [0, 1, 2], # to be changed according to the selected dataset\n",
    "    \"z_dim\": 3, # to be changed according to the selected dataset\n",
    "    \"hidden_dim\": 256, \n",
    "    \"c_hidden_dim\": 1000, \n",
    "    \"training_steps\": 10, \n",
    "    \"beta\": 1, \n",
    "    \"gamma\": 1, \n",
    "    \"m_l_rate\": 1e-4, \n",
    "    \"m_eps\": 1e-8, \n",
    "    \"m_beta_1\": .9, \n",
    "    \"m_beta_2\": .999, \n",
    "    \"c_l_rate\": 1e-4, \n",
    "    \"c_eps\": 1e-8,\n",
    "    \"c_beta_1\": .5, \n",
    "    \"c_beta_2\": .9, \n",
    "    \"device\": torch.device(\"cuda:0\" if torch.cuda.is_available() else \"cpu\"),\n",
    "    \"print_every\": 2\n",
    "}"
   ]
  },
  {
   "cell_type": "code",
   "execution_count": null,
   "metadata": {
    "collapsed": true
   },
   "outputs": [],
   "source": [
    "def write_log(output_file_path, training_time, m_loss_list, l_loss_list, u_loss_list, c_loss_list, round_digits=2):  \n",
    "    res = {\n",
    "        'training_time' : training_time, \n",
    "        'loss' : [round(l, 2) for l in m_loss_list], \n",
    "        'l_loss' : [round(l, 2) for l in l_loss_list], \n",
    "        'u_loss' : [round(l, 2) for l in u_loss_list], \n",
    "        'c_loss' : [round(l, 2) for l in c_loss_list]\n",
    "    }\n",
    "    with open(output_file_path, 'w') as fp:\n",
    "        json.dump(res, fp)"
   ]
  },
  {
   "cell_type": "code",
   "execution_count": null,
   "metadata": {
    "collapsed": true
   },
   "outputs": [],
   "source": [
    "def run(dataset, config, log=True):\n",
    "    torch.manual_seed(config[\"seed\"])\n",
    "    np.random.seed(config[\"seed\"])\n",
    "    random.seed(config[\"seed\"])\n",
    "    \n",
    "    model = SSIDVAE(\n",
    "        num_channels=config[\"num_channels\"], \n",
    "        x_dim=64*64,\n",
    "        hidden_dim=config[\"hidden_dim\"], \n",
    "        z_dim=config[\"z_dim\"],\n",
    "        u_dim=config[\"u_dim\"]\n",
    "    ).apply(weights_init)\n",
    "\n",
    "    m_optimizer = torch.optim.Adam(\n",
    "        list(model.parameters()), \n",
    "        lr=config[\"m_l_rate\"],\n",
    "        betas=(config[\"m_beta_1\"], config[\"m_beta_2\"]), \n",
    "        eps=config[\"m_eps\"]\n",
    "    )\n",
    "\n",
    "    conditional_prior = ConditionalPrior(\n",
    "        u_dim=config[\"u_dim\"], \n",
    "        hidden_dim=config[\"c_hidden_dim\"], \n",
    "        z_dim=config[\"z_dim\"]\n",
    "    ).apply(weights_init)\n",
    "\n",
    "    c_optimizer = torch.optim.Adam(\n",
    "        list(conditional_prior.parameters()), \n",
    "        lr=config[\"c_l_rate\"],\n",
    "        betas=(config[\"c_beta_1\"], config[\"c_beta_2\"]), \n",
    "        eps=config[\"c_eps\"]\n",
    "    )\n",
    "\n",
    "    # Load dataset\n",
    "    data = dataset(path=config[\"data_path\"])\n",
    "    dataloader = data.get_dataloader(batch_size=config[\"batch_size\"])\n",
    "    \n",
    "    # Train\n",
    "    start_time = time.time()\n",
    "    train_loss_list, l_loss_list, u_loss_list, c_loss_list = ssidvae_train(\n",
    "        model, \n",
    "        m_optimizer,\n",
    "        conditional_prior, \n",
    "        c_optimizer,\n",
    "        dataloader,  \n",
    "        config[\"u_idx\"], \n",
    "        config[\"device\"], \n",
    "        beta=config[\"beta\"],\n",
    "        gamma=config[\"gamma\"],\n",
    "        labeled_percentage=config[\"labeled_percentage\"],\n",
    "        training_steps=config[\"training_steps\"],\n",
    "        print_every=config[\"print_every\"]\n",
    "    )\n",
    "    end_time = time.time()\n",
    "    \n",
    "    # Define some filenames\n",
    "    base_filename = base_filename = \"{}_{}_seed_{}_beta_{}_gamma_{}_uidx_{}_labeled_{}\".format(\n",
    "        config[\"model\"], \n",
    "        config[\"dataset\"], \n",
    "        str(config[\"seed\"]).zfill(2), \n",
    "        str(config[\"beta\"]).zfill(2), \n",
    "        str(config[\"gamma\"]).zfill(2), \n",
    "        str(config[\"u_idx\"]),\n",
    "        str(config[\"labeled_percentage\"])\n",
    "    )\n",
    "    log_filename = base_filename + \"_losses.json\"\n",
    "    model_filename = base_filename + \".pth\"\n",
    "    conditional_prior_filename = base_filename + \"_c.pth\"\n",
    "    \n",
    "    # Save the model\n",
    "    torch.save(model.state_dict(), os.path.join(config[\"stored_model_path\"], model_filename))\n",
    "    torch.save(conditional_prior.state_dict(), os.path.join(config[\"stored_model_path\"], conditional_prior_filename))\n",
    "    \n",
    "    # Save the losses\n",
    "    if log:\n",
    "        write_log(\n",
    "            os.path.join(config[\"log_path\"], log_filename), \n",
    "            end_time-start_time, \n",
    "            train_loss_list, \n",
    "            l_loss_list, \n",
    "            u_loss_list,  \n",
    "            c_loss_list, \n",
    "            round_digits=2\n",
    "        )"
   ]
  },
  {
   "cell_type": "code",
   "execution_count": null,
   "metadata": {},
   "outputs": [],
   "source": [
    "run(Cars3D, config)"
   ]
  }
 ],
 "metadata": {
  "kernelspec": {
   "display_name": "Python 3",
   "language": "python",
   "name": "python3"
  },
  "language_info": {
   "codemirror_mode": {
    "name": "ipython",
    "version": 3
   },
   "file_extension": ".py",
   "mimetype": "text/x-python",
   "name": "python",
   "nbconvert_exporter": "python",
   "pygments_lexer": "ipython3",
   "version": "3.6.3"
  }
 },
 "nbformat": 4,
 "nbformat_minor": 2
}
