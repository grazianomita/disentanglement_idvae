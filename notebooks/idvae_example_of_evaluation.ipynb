{
 "cells": [
  {
   "cell_type": "markdown",
   "metadata": {
    "collapsed": true
   },
   "source": [
    "# IDVAE - Example of evaluation"
   ]
  },
  {
   "cell_type": "markdown",
   "metadata": {},
   "source": [
    "- In the following lines, an IDVAE model trained on Cars3D is retrieved from disk and evaluated on the beta_score measure.\n",
    "- The procedure is similar for other disentanglement measures.\n",
    "- After evaluation, results are stored in the evaluation_results directory."
   ]
  },
  {
   "cell_type": "code",
   "execution_count": 1,
   "metadata": {
    "collapsed": true
   },
   "outputs": [],
   "source": [
    "import os\n",
    "import torch\n",
    "import time"
   ]
  },
  {
   "cell_type": "code",
   "execution_count": 2,
   "metadata": {
    "collapsed": true
   },
   "outputs": [],
   "source": [
    "from disentanglement.data_models.cars3d import Cars3D\n",
    "from disentanglement.models.idvae import IDVAE\n",
    "from disentanglement.evaluation.metrics.beta_vae_score import compute_beta_vae_score, log_beta_vae_score"
   ]
  },
  {
   "cell_type": "code",
   "execution_count": 3,
   "metadata": {
    "collapsed": true
   },
   "outputs": [],
   "source": [
    "import warnings\n",
    "warnings.filterwarnings(\"ignore\")"
   ]
  },
  {
   "cell_type": "code",
   "execution_count": 9,
   "metadata": {
    "collapsed": true
   },
   "outputs": [],
   "source": [
    "# Beta score evaluation parameters\n",
    "BETA_SCORE_TRAIN_DATASET_SIZE = 5000 \n",
    "BETA_SCORE_EVAL_DATASET_SIZE = 500\n",
    "BETA_SCORE_BATCH_SIZE = 64\n",
    "BETA_SCORE_SEED = 17"
   ]
  },
  {
   "cell_type": "code",
   "execution_count": 10,
   "metadata": {
    "collapsed": true
   },
   "outputs": [],
   "source": [
    "model_filename = \"idvae_cars3d_seed_17_beta_01_gamma_01_uidx_[0, 1, 2]\"\n",
    "config = {\n",
    "    \"model_filename\": model_filename,\n",
    "    \"model_path\": \"../stored_models/{}.pth\".format(model_filename),\n",
    "    \"evaluation_results_path\": \"../evaluation_results\",\n",
    "    \"dataset_path\": \"../data/cars3d\",\n",
    "    \"evaluation_path\": \"../evaluation_results\",\n",
    "    \"num_channels\": 3, # number of channels of the selected dataset\n",
    "    \"u_dim\": 3, # to be changed according to the selected dataset \n",
    "    \"u_idx\": [0, 1, 2], # to be changed according to the selected dataset\n",
    "    \"z_dim\": 3, # to be changed according to the selected dataset\n",
    "    \"hidden_dim\": 256\n",
    "}"
   ]
  },
  {
   "cell_type": "code",
   "execution_count": 11,
   "metadata": {
    "collapsed": true
   },
   "outputs": [],
   "source": [
    "dataset = Cars3D(path=config[\"dataset_path\"])"
   ]
  },
  {
   "cell_type": "code",
   "execution_count": 12,
   "metadata": {
    "collapsed": true
   },
   "outputs": [],
   "source": [
    "def run(dataset, config):\n",
    "    model = IDVAE(\n",
    "        num_channels=config[\"num_channels\"], \n",
    "        x_dim=64*64,\n",
    "        hidden_dim=config[\"hidden_dim\"], \n",
    "        z_dim=config[\"z_dim\"],\n",
    "        u_dim=config[\"u_dim\"]\n",
    "    )\n",
    "    \n",
    "    m_state_dict = torch.load(config[\"model_path\"])\n",
    "    model.load_state_dict(m_state_dict)\n",
    "    beta_score_start_time = time.time()\n",
    "    train_beta_score, eval_beta_score = compute_beta_vae_score(\n",
    "        model, \n",
    "        dataset, \n",
    "        config[\"u_idx\"], \n",
    "        train_dataset_size=BETA_SCORE_TRAIN_DATASET_SIZE, \n",
    "        eval_dataset_size=BETA_SCORE_EVAL_DATASET_SIZE, \n",
    "        batch_size=BETA_SCORE_BATCH_SIZE,\n",
    "        seed=BETA_SCORE_SEED\n",
    "    )\n",
    "    beta_score_end_time = time.time()\n",
    "    \n",
    "    log_results_path = os.path.join(config[\"evaluation_results_path\"], model_filename + \"_beta_score.json\")  \n",
    "    log_beta_vae_score(\n",
    "        log_results_path, \n",
    "        beta_score_end_time - beta_score_start_time, \n",
    "        train_beta_score, \n",
    "        eval_beta_score\n",
    "    )"
   ]
  },
  {
   "cell_type": "code",
   "execution_count": 13,
   "metadata": {},
   "outputs": [],
   "source": [
    "run(dataset, config)"
   ]
  }
 ],
 "metadata": {
  "kernelspec": {
   "display_name": "Python 3",
   "language": "python",
   "name": "python3"
  },
  "language_info": {
   "codemirror_mode": {
    "name": "ipython",
    "version": 3
   },
   "file_extension": ".py",
   "mimetype": "text/x-python",
   "name": "python",
   "nbconvert_exporter": "python",
   "pygments_lexer": "ipython3",
   "version": "3.6.3"
  }
 },
 "nbformat": 4,
 "nbformat_minor": 2
}
